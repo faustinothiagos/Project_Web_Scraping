{
 "cells": [
  {
   "attachments": {},
   "cell_type": "markdown",
   "metadata": {},
   "source": [
    "# Automação Web scraping com Selenium para coleta de dados.\n",
    "\n",
    "#### Python + Selenium\n",
    "\n",
    "- 2 requisitos necessários:\n",
    "    - Instalar o Selenium\n",
    "    - Webdriver Manager"
   ]
  },
  {
   "cell_type": "code",
   "execution_count": 1,
   "metadata": {},
   "outputs": [
    {
     "name": "stderr",
     "output_type": "stream",
     "text": [
      "[WDM] - Downloading: 100%|██████████| 6.75M/6.75M [00:15<00:00, 470kB/s] \n"
     ]
    }
   ],
   "source": [
    "# IMPORTANDO OS MÓDULOS\n",
    "from selenium import webdriver\n",
    "from webdriver_manager.chrome import ChromeDriverManager\n",
    "from selenium.webdriver.chrome.service import Service\n",
    "from time import sleep\n",
    "from datetime import datetime\n",
    "import os\n",
    "\n",
    "# VERIFICANDO E BAIXANDO A VERSÃO ATUAL DO DRIVERMANAGER PARA O CHROME\n",
    "servico = Service(ChromeDriverManager().install())\n",
    "\n",
    "# NAVEGADOR RECONHECENDO A VERSÃO MAIS RECENTE DO DRIVEMANAGER PARA O CHROME\n",
    "navegador = webdriver.Chrome(service=servico)\n",
    "\n",
    "# CRIAR A PASTA DE ARQUIVO\n",
    "pasta_alvo = 'transparencia.al.gov.br/' \n",
    "if(not os.path.exists(pasta_alvo)):\n",
    "     os.mkdir(pasta_alvo)\n",
    "\n",
    "# ABRINDO O NAVEGADOR NA PÁGINA SERVIDOR ATIVO:\n",
    "navegador.get(\"https://transparencia.al.gov.br/portal/download-de-dados/pessoal/servidor-ativo\")\n",
    "\n",
    "\n",
    "# BAIXANDO O ARQUIVO ZIP DA PAGINA\n",
    "navegador.find_element('xpath', '//*[@id=\"lista-arquivos\"]/a[1]').click()\n",
    "\n",
    "# TEMPO DE ESPERA  DE 7s PARA FECHAR A PÁGINA\n",
    "sleep(7)\n",
    "\n",
    "# ABRINDO O NAVEGADOR NA PÁGINA SERVIDOR INATIVO:\n",
    "navegador.get(\"https://transparencia.al.gov.br/portal/download-de-dados/pessoal/servidor-inativo\")\n",
    "\n",
    "# BAIXANDO O ARQUIVO ZIP DA PAGINA\n",
    "navegador.find_element('xpath', '//*[@id=\"lista-arquivos\"]/a[1]').click()\n",
    "\n",
    "# TEMPO DE ESPERA  DE 7s PARA FECHAR A PÁGINA\n",
    "sleep(7)\n",
    "\n",
    "# ABRINDO O NAVEGADOR NA PÁGINA ÓRGÃO FOLHA :\n",
    "navegador.get(\"https://transparencia.al.gov.br/portal/download-de-dados/pessoal/orgao-folha\")\n",
    "\n",
    "# BAIXANDO O ARQUIVO ZIP DA PAGINA\n",
    "navegador.find_element('xpath', '//*[@id=\"lista-arquivos\"]/a[1]').click()\n",
    "\n",
    "# TEMPO DE ESPERA  DE 7s PARA FECHAR A PÁGINA\n",
    "sleep(7)\n",
    "\n",
    "# FECHANDO O NAVEGADOR.\n",
    "navegador.quit()"
   ]
  }
 ],
 "metadata": {
  "kernelspec": {
   "display_name": "Python 3",
   "language": "python",
   "name": "python3"
  },
  "language_info": {
   "codemirror_mode": {
    "name": "ipython",
    "version": 3
   },
   "file_extension": ".py",
   "mimetype": "text/x-python",
   "name": "python",
   "nbconvert_exporter": "python",
   "pygments_lexer": "ipython3",
   "version": "3.10.6"
  },
  "orig_nbformat": 4
 },
 "nbformat": 4,
 "nbformat_minor": 2
}
